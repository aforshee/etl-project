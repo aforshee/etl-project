{
 "cells": [
  {
   "cell_type": "code",
   "execution_count": 1,
   "metadata": {},
   "outputs": [],
   "source": [
    "#import dependencies\n",
    "import pandas as pd\n",
    "\n",
    "# Python SQL toolkit and Object Relational Mapper\n",
    "import sqlalchemy\n",
    "from sqlalchemy.ext.automap import automap_base\n",
    "from sqlalchemy.orm import Session\n",
    "from sqlalchemy import create_engine, func\n",
    "\n"
   ]
  },
  {
   "cell_type": "code",
   "execution_count": 2,
   "metadata": {},
   "outputs": [],
   "source": [
    "#load data \n",
    "CA_videos = 'CAvideos.csv'\n",
    "DE_videos = 'DEvideos.csv'\n",
    "FR_videos = 'FRvideos.csv'\n",
    "GB_videos = 'GBvideos.csv'\n",
    "IN_videos = 'INvideos.csv'\n",
    "JP_videos = 'JPvideos.csv'\n",
    "KR_videos = 'KRvideos.csv'\n",
    "MX_videos = 'MXvideos.csv'\n",
    "RU_videos = 'RUvideos.csv'\n",
    "US_videos = 'USvideos.csv'\n",
    "\n",
    "CA_videos_df = pd.read_csv(CA_videos, encoding='utf-8', dtype = 'unicode')\n",
    "DE_videos_df = pd.read_csv(DE_videos, encoding='utf-8', dtype = 'unicode')\n",
    "FR_videos_df = pd.read_csv(FR_videos, encoding='utf-8', dtype = 'unicode')\n",
    "GB_videos_df = pd.read_csv(GB_videos, encoding='utf-8', dtype = 'unicode')\n",
    "IN_videos_df = pd.read_csv(IN_videos, encoding='utf-8', dtype = 'unicode')\n",
    "JP_videos_df = pd.read_csv(JP_videos, encoding='latin1', dtype = 'unicode')\n",
    "KR_videos_df = pd.read_csv(KR_videos, encoding='latin1', dtype = 'unicode')\n",
    "MX_videos_df = pd.read_csv(MX_videos, encoding='latin1', dtype = 'unicode')\n",
    "RU_videos_df = pd.read_csv(RU_videos, encoding='latin1', dtype = 'unicode')\n",
    "US_videos_df = pd.read_csv(US_videos, encoding='utf-8', dtype = 'unicode')"
   ]
  },
  {
   "cell_type": "code",
   "execution_count": 3,
   "metadata": {},
   "outputs": [],
   "source": [
    "#Add a column for country code in each dataframe\n",
    "CA_videos_df['country'] = 'CA'\n",
    "DE_videos_df['country'] = 'DE'\n",
    "FR_videos_df['country'] = 'FR'\n",
    "GB_videos_df['country'] = 'GB'\n",
    "IN_videos_df['country'] = 'IN'\n",
    "JP_videos_df['country'] = 'JP'\n",
    "KR_videos_df['country'] = 'KR'\n",
    "MX_videos_df['country'] = 'MX'\n",
    "RU_videos_df['country'] = 'RU'\n",
    "US_videos_df['country'] = 'US'"
   ]
  },
  {
   "cell_type": "code",
   "execution_count": 4,
   "metadata": {},
   "outputs": [
    {
     "data": {
      "text/plain": [
       "375942"
      ]
     },
     "execution_count": 4,
     "metadata": {},
     "output_type": "execute_result"
    }
   ],
   "source": [
    "#Concat all dataframes into one pd.concat([s1, s2], ignore_index=True)\n",
    "videos_df = pd.concat([CA_videos_df, \n",
    "                      DE_videos_df,\n",
    "                      FR_videos_df,\n",
    "                      GB_videos_df,\n",
    "                      IN_videos_df,\n",
    "                      JP_videos_df,\n",
    "                      KR_videos_df,\n",
    "                      MX_videos_df,\n",
    "                      RU_videos_df,\n",
    "                      US_videos_df], ignore_index=True, sort=False)\n",
    "len(videos_df)"
   ]
  },
  {
   "cell_type": "code",
   "execution_count": 5,
   "metadata": {},
   "outputs": [
    {
     "data": {
      "text/html": [
       "<div>\n",
       "<style scoped>\n",
       "    .dataframe tbody tr th:only-of-type {\n",
       "        vertical-align: middle;\n",
       "    }\n",
       "\n",
       "    .dataframe tbody tr th {\n",
       "        vertical-align: top;\n",
       "    }\n",
       "\n",
       "    .dataframe thead th {\n",
       "        text-align: right;\n",
       "    }\n",
       "</style>\n",
       "<table border=\"1\" class=\"dataframe\">\n",
       "  <thead>\n",
       "    <tr style=\"text-align: right;\">\n",
       "      <th></th>\n",
       "      <th>video_id</th>\n",
       "      <th>trending_date</th>\n",
       "      <th>title</th>\n",
       "      <th>channel_title</th>\n",
       "      <th>category_id</th>\n",
       "      <th>publish_time</th>\n",
       "      <th>tags</th>\n",
       "      <th>views</th>\n",
       "      <th>likes</th>\n",
       "      <th>dislikes</th>\n",
       "      <th>comment_count</th>\n",
       "      <th>thumbnail_link</th>\n",
       "      <th>comments_disabled</th>\n",
       "      <th>ratings_disabled</th>\n",
       "      <th>video_error_or_removed</th>\n",
       "      <th>description</th>\n",
       "      <th>country</th>\n",
       "    </tr>\n",
       "  </thead>\n",
       "  <tbody>\n",
       "    <tr>\n",
       "      <td>0</td>\n",
       "      <td>n1WpP7iowLc</td>\n",
       "      <td>17.14.11</td>\n",
       "      <td>Eminem - Walk On Water (Audio) ft. Beyoncé</td>\n",
       "      <td>EminemVEVO</td>\n",
       "      <td>10</td>\n",
       "      <td>2017-11-10T17:00:03.000Z</td>\n",
       "      <td>Eminem|\"Walk\"|\"On\"|\"Water\"|\"Aftermath/Shady/In...</td>\n",
       "      <td>17158579</td>\n",
       "      <td>787425</td>\n",
       "      <td>43420</td>\n",
       "      <td>125882</td>\n",
       "      <td>https://i.ytimg.com/vi/n1WpP7iowLc/default.jpg</td>\n",
       "      <td>False</td>\n",
       "      <td>False</td>\n",
       "      <td>False</td>\n",
       "      <td>Eminem's new track Walk on Water ft. Beyoncé i...</td>\n",
       "      <td>CA</td>\n",
       "    </tr>\n",
       "  </tbody>\n",
       "</table>\n",
       "</div>"
      ],
      "text/plain": [
       "      video_id trending_date                                       title  \\\n",
       "0  n1WpP7iowLc      17.14.11  Eminem - Walk On Water (Audio) ft. Beyoncé   \n",
       "\n",
       "  channel_title category_id              publish_time  \\\n",
       "0    EminemVEVO          10  2017-11-10T17:00:03.000Z   \n",
       "\n",
       "                                                tags     views   likes  \\\n",
       "0  Eminem|\"Walk\"|\"On\"|\"Water\"|\"Aftermath/Shady/In...  17158579  787425   \n",
       "\n",
       "  dislikes comment_count                                  thumbnail_link  \\\n",
       "0    43420        125882  https://i.ytimg.com/vi/n1WpP7iowLc/default.jpg   \n",
       "\n",
       "  comments_disabled ratings_disabled video_error_or_removed  \\\n",
       "0             False            False                  False   \n",
       "\n",
       "                                         description country  \n",
       "0  Eminem's new track Walk on Water ft. Beyoncé i...      CA  "
      ]
     },
     "execution_count": 5,
     "metadata": {},
     "output_type": "execute_result"
    }
   ],
   "source": [
    "videos_df.head(1)"
   ]
  },
  {
   "cell_type": "code",
   "execution_count": null,
   "metadata": {},
   "outputs": [],
   "source": [
    "# clean trending_date\n",
    "# series.str.split(self, pat=None, n=-1, expand=False)\n",
    "# df.rename(columns={\"A\": \"a\", \"B\": \"c\"})\n",
    "# df['combined']=df.apply(lambda x:'%s_%s' % (x['foo'],x['bar']),axis=1)\n",
    "# df['Date']= pd.to_datetime(df['Date'])\n",
    "# df['Date'] = df['Date'].astype('datetime64[ns]') \n",
    "date = videos_df['trending_date']\n",
    "date_expanded = date.str.split(pat = '.', expand=True)\n",
    "df_corrected = date_expanded.apply(lambda x:'%s-%s-20%s' % (x[2],x[1],x[0]),axis=1)"
   ]
  },
  {
   "cell_type": "code",
   "execution_count": 28,
   "metadata": {},
   "outputs": [],
   "source": [
    "#change date type\n",
    "videos_df['date_clean'] = df_corrected.astype('datetime64[ns]')"
   ]
  },
  {
   "cell_type": "code",
   "execution_count": 27,
   "metadata": {},
   "outputs": [],
   "source": [
    "#change date type\n",
    "videos_df['publish_time_clean'] = videos_df['publish_time'].astype('datetime64[ns]')"
   ]
  },
  {
   "cell_type": "code",
   "execution_count": 17,
   "metadata": {},
   "outputs": [],
   "source": [
    "#connect to SQL\n",
    "engine = create_engine('sql lite goes here')\n",
    "#engine = create_engine('sqlite:///database.sqlite')\n",
    "Base.metadata.create_all(engine)\n",
    "\n",
    "# Create Database Session\n",
    "session = Session(bind=engine)"
   ]
  },
  {
   "cell_type": "code",
   "execution_count": null,
   "metadata": {},
   "outputs": [],
   "source": []
  }
 ],
 "metadata": {
  "kernelspec": {
   "display_name": "Python 3",
   "language": "python",
   "name": "python3"
  },
  "language_info": {
   "codemirror_mode": {
    "name": "ipython",
    "version": 3
   },
   "file_extension": ".py",
   "mimetype": "text/x-python",
   "name": "python",
   "nbconvert_exporter": "python",
   "pygments_lexer": "ipython3",
   "version": "3.7.4"
  }
 },
 "nbformat": 4,
 "nbformat_minor": 2
}
