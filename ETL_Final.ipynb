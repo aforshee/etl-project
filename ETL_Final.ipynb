{
 "cells": [
  {
   "cell_type": "code",
   "execution_count": 4,
   "metadata": {},
   "outputs": [],
   "source": [
    "# import dependencies\n",
    "\n",
    "import pandas as pd\n",
    "from sqlalchemy import create_engine\n",
    "from config import username, password"
   ]
  },
  {
   "cell_type": "markdown",
   "metadata": {},
   "source": [
    "# Part 1: Load Data"
   ]
  },
  {
   "cell_type": "code",
   "execution_count": 11,
   "metadata": {},
   "outputs": [],
   "source": [
    "# load data\n",
    "\n",
    "# YouTube Videos\n",
    "CA_videos = 'data/CAvideos.csv'\n",
    "DE_videos = 'data/DEvideos.csv'\n",
    "FR_videos = 'data/FRvideos.csv'\n",
    "GB_videos = 'data/GBvideos.csv'\n",
    "IN_videos = 'data/INvideos.csv'\n",
    "JP_videos = 'data/JPvideos.csv'\n",
    "KR_videos = 'data/KRvideos.csv'\n",
    "MX_videos = 'data/MXvideos.csv'\n",
    "RU_videos = 'data/RUvideos.csv'\n",
    "US_videos = 'data/USvideos.csv'\n",
    "CA_videos_df = pd.read_csv(CA_videos, encoding='utf-8', dtype = 'unicode')\n",
    "DE_videos_df = pd.read_csv(DE_videos, encoding='utf-8', dtype = 'unicode')\n",
    "FR_videos_df = pd.read_csv(FR_videos, encoding='utf-8', dtype = 'unicode')\n",
    "GB_videos_df = pd.read_csv(GB_videos, encoding='utf-8', dtype = 'unicode')\n",
    "IN_videos_df = pd.read_csv(IN_videos, encoding='utf-8', dtype = 'unicode')\n",
    "JP_videos_df = pd.read_csv(JP_videos, encoding='latin1', dtype = 'unicode')\n",
    "KR_videos_df = pd.read_csv(KR_videos, encoding='latin1', dtype = 'unicode')\n",
    "MX_videos_df = pd.read_csv(MX_videos, encoding='latin1', dtype = 'unicode')\n",
    "RU_videos_df = pd.read_csv(RU_videos, encoding='latin1', dtype = 'unicode')\n",
    "US_videos_df = pd.read_csv(US_videos, encoding='utf-8', dtype = 'unicode')\n",
    "\n",
    "# Ted Talks\n",
    "TED_Talks_query = 'data/QueryResult.csv'\n",
    "\n",
    "# Read Data File and store into Pandas DataFrames\n",
    "tedtalks = pd.read_csv(TED_Talks_query)\n",
    "TED_Talks_More_load = 'data/TED_Talks_more.csv'\n",
    "tedtalks_more = pd.read_csv(TED_Talks_More_load)\n",
    "\n",
    "# Edx\n",
    "df = pd.read_csv('data/edx_data.csv')"
   ]
  },
  {
   "cell_type": "code",
   "execution_count": null,
   "metadata": {},
   "outputs": [],
   "source": [
    "# read html\n",
    "\n",
    "url_mooc_table = 'https://en.wikipedia.org/wiki/List_of_MOOC_providers'\n",
    "mooc_table = pd.read_html(url_mooc_table)\n",
    "mooc_df = mooc_table[0]"
   ]
  },
  {
   "cell_type": "markdown",
   "metadata": {},
   "source": [
    "# Part 2: Transform"
   ]
  },
  {
   "cell_type": "markdown",
   "metadata": {},
   "source": [
    "## YouTube"
   ]
  },
  {
   "cell_type": "markdown",
   "metadata": {},
   "source": [
    "## Ted Talks"
   ]
  },
  {
   "cell_type": "markdown",
   "metadata": {},
   "source": [
    "## EdX"
   ]
  },
  {
   "cell_type": "markdown",
   "metadata": {},
   "source": [
    "# Part 3: Transform"
   ]
  },
  {
   "cell_type": "code",
   "execution_count": null,
   "metadata": {},
   "outputs": [],
   "source": []
  }
 ],
 "metadata": {
  "kernelspec": {
   "display_name": "Python 3",
   "language": "python",
   "name": "python3"
  },
  "language_info": {
   "codemirror_mode": {
    "name": "ipython",
    "version": 3
   },
   "file_extension": ".py",
   "mimetype": "text/x-python",
   "name": "python",
   "nbconvert_exporter": "python",
   "pygments_lexer": "ipython3",
   "version": "3.7.4"
  }
 },
 "nbformat": 4,
 "nbformat_minor": 2
}
