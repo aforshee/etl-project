{
 "cells": [
  {
   "cell_type": "markdown",
   "metadata": {},
   "source": [
    "### TedTalks"
   ]
  },
  {
   "cell_type": "code",
   "execution_count": 1,
   "metadata": {},
   "outputs": [],
   "source": [
    "# Dependencies and Setup\n",
    "import pandas as pd\n",
    "\n",
    "# File to Load \n",
    "TED_Talks_query = \"TEDtalks/QueryResult.csv\"\n",
    "\n",
    "\n",
    "# Read Data File and store into Pandas DataFrames\n",
    "tedtalks = pd.read_csv(TED_Talks_query)"
   ]
  },
  {
   "cell_type": "code",
   "execution_count": 2,
   "metadata": {},
   "outputs": [],
   "source": [
    "TED_Talks_More_load = \"Tedtalks/TED_Talks_more.csv\"\n",
    "tedtalks_more = pd.read_csv(TED_Talks_More_load)"
   ]
  },
  {
   "cell_type": "markdown",
   "metadata": {},
   "source": [
    "### Coursera"
   ]
  },
  {
   "cell_type": "code",
   "execution_count": 3,
   "metadata": {},
   "outputs": [],
   "source": [
    "# File to Load \n",
    "coursera_data_to_load = \"coursera-course-data/coursera-course-data.csv\"\n",
    "coursera_detail_to_load = \"coursera-course-data/coursera-course-detail-data.csv\"\n",
    "\n",
    "# Read Data File and store into Pandas DataFrames\n",
    "coursera_data = pd.read_csv(coursera_data_to_load)\n",
    "coursera_detail = pd.read_csv(coursera_detail_to_load)"
   ]
  },
  {
   "cell_type": "markdown",
   "metadata": {},
   "source": [
    "TED_Talks_query = \"TEDtalks/QueryResult.csv\"\n",
    "\n",
    "tedtalks = pd.read_csv(TED_Talks_query)\n",
    "\n",
    "TED_Talks_More_load = \"Tedtalks/TED_Talks_more.csv\"\n",
    "tedtalks_more = pd.read_csv(TED_Talks_More_load)\n",
    "\n",
    "coursera_data_to_load = \"coursera-course-data/coursera-course-data.csv\"\n",
    "coursera_detail_to_load = \"coursera-course-data/coursera-course-detail-data.csv\"\n",
    "\n",
    "coursera_data = pd.read_csv(coursera_data_to_load)\n",
    "coursera_detail = pd.read_csv(coursera_detail_to_load)"
   ]
  },
  {
   "cell_type": "code",
   "execution_count": 4,
   "metadata": {},
   "outputs": [
    {
     "data": {
      "text/html": [
       "<div>\n",
       "<style scoped>\n",
       "    .dataframe tbody tr th:only-of-type {\n",
       "        vertical-align: middle;\n",
       "    }\n",
       "\n",
       "    .dataframe tbody tr th {\n",
       "        vertical-align: top;\n",
       "    }\n",
       "\n",
       "    .dataframe thead th {\n",
       "        text-align: right;\n",
       "    }\n",
       "</style>\n",
       "<table border=\"1\" class=\"dataframe\">\n",
       "  <thead>\n",
       "    <tr style=\"text-align: right;\">\n",
       "      <th></th>\n",
       "      <th>id</th>\n",
       "      <th>speaker</th>\n",
       "      <th>headline</th>\n",
       "      <th>url</th>\n",
       "      <th>description</th>\n",
       "      <th>transcript_url</th>\n",
       "      <th>month_filmed</th>\n",
       "      <th>year_filmed</th>\n",
       "      <th>event</th>\n",
       "      <th>duration</th>\n",
       "      <th>date_published</th>\n",
       "      <th>tags</th>\n",
       "    </tr>\n",
       "  </thead>\n",
       "  <tbody>\n",
       "    <tr>\n",
       "      <th>0</th>\n",
       "      <td>1</td>\n",
       "      <td>Al Gore</td>\n",
       "      <td>Averting the climate crisis</td>\n",
       "      <td>http://www.ted.com/talks/view/id/1</td>\n",
       "      <td>With the same humor and humanity he exuded in ...</td>\n",
       "      <td>http://www.ted.com/talks/view/id/1/transcript?...</td>\n",
       "      <td>2</td>\n",
       "      <td>2006</td>\n",
       "      <td>TED2006</td>\n",
       "      <td>00:16:17</td>\n",
       "      <td>2006-06-27</td>\n",
       "      <td>cars,alternative energy,culture,politics,scien...</td>\n",
       "    </tr>\n",
       "    <tr>\n",
       "      <th>1</th>\n",
       "      <td>2</td>\n",
       "      <td>Amy Smith</td>\n",
       "      <td>Simple designs to save a life</td>\n",
       "      <td>http://www.ted.com/talks/view/id/2</td>\n",
       "      <td>Fumes from indoor cooking fires kill more than...</td>\n",
       "      <td>http://www.ted.com/talks/view/id/2/transcript?...</td>\n",
       "      <td>2</td>\n",
       "      <td>2006</td>\n",
       "      <td>TED2006</td>\n",
       "      <td>00:15:06</td>\n",
       "      <td>2006-08-15</td>\n",
       "      <td>MacArthur grant,simplicity,industrial design,a...</td>\n",
       "    </tr>\n",
       "    <tr>\n",
       "      <th>2</th>\n",
       "      <td>3</td>\n",
       "      <td>Ashraf Ghani</td>\n",
       "      <td>How to rebuild a broken state</td>\n",
       "      <td>http://www.ted.com/talks/view/id/3</td>\n",
       "      <td>Ashraf Ghani's passionate and powerful 10-minu...</td>\n",
       "      <td>http://www.ted.com/talks/view/id/3/transcript?...</td>\n",
       "      <td>7</td>\n",
       "      <td>2005</td>\n",
       "      <td>TEDGlobal 2005</td>\n",
       "      <td>00:18:45</td>\n",
       "      <td>2006-10-18</td>\n",
       "      <td>corruption,poverty,economics,investment,milita...</td>\n",
       "    </tr>\n",
       "    <tr>\n",
       "      <th>3</th>\n",
       "      <td>4</td>\n",
       "      <td>Burt Rutan</td>\n",
       "      <td>The real future of space exploration</td>\n",
       "      <td>http://www.ted.com/talks/view/id/4</td>\n",
       "      <td>In this passionate talk, legendary spacecraft ...</td>\n",
       "      <td>http://www.ted.com/talks/view/id/4/transcript?...</td>\n",
       "      <td>2</td>\n",
       "      <td>2006</td>\n",
       "      <td>TED2006</td>\n",
       "      <td>00:19:37</td>\n",
       "      <td>2006-10-25</td>\n",
       "      <td>aircraft,flight,industrial design,NASA,rocket ...</td>\n",
       "    </tr>\n",
       "    <tr>\n",
       "      <th>4</th>\n",
       "      <td>5</td>\n",
       "      <td>Chris Bangle</td>\n",
       "      <td>Great cars are great art</td>\n",
       "      <td>http://www.ted.com/talks/view/id/5</td>\n",
       "      <td>American designer Chris Bangle explains his ph...</td>\n",
       "      <td>http://www.ted.com/talks/view/id/5/transcript?...</td>\n",
       "      <td>2</td>\n",
       "      <td>2002</td>\n",
       "      <td>TED2002</td>\n",
       "      <td>00:20:04</td>\n",
       "      <td>2007-04-05</td>\n",
       "      <td>cars,industrial design,transportation,inventio...</td>\n",
       "    </tr>\n",
       "  </tbody>\n",
       "</table>\n",
       "</div>"
      ],
      "text/plain": [
       "   id       speaker                              headline  \\\n",
       "0   1       Al Gore           Averting the climate crisis   \n",
       "1   2     Amy Smith         Simple designs to save a life   \n",
       "2   3  Ashraf Ghani         How to rebuild a broken state   \n",
       "3   4    Burt Rutan  The real future of space exploration   \n",
       "4   5  Chris Bangle              Great cars are great art   \n",
       "\n",
       "                                  url  \\\n",
       "0  http://www.ted.com/talks/view/id/1   \n",
       "1  http://www.ted.com/talks/view/id/2   \n",
       "2  http://www.ted.com/talks/view/id/3   \n",
       "3  http://www.ted.com/talks/view/id/4   \n",
       "4  http://www.ted.com/talks/view/id/5   \n",
       "\n",
       "                                         description  \\\n",
       "0  With the same humor and humanity he exuded in ...   \n",
       "1  Fumes from indoor cooking fires kill more than...   \n",
       "2  Ashraf Ghani's passionate and powerful 10-minu...   \n",
       "3  In this passionate talk, legendary spacecraft ...   \n",
       "4  American designer Chris Bangle explains his ph...   \n",
       "\n",
       "                                      transcript_url  month_filmed  \\\n",
       "0  http://www.ted.com/talks/view/id/1/transcript?...             2   \n",
       "1  http://www.ted.com/talks/view/id/2/transcript?...             2   \n",
       "2  http://www.ted.com/talks/view/id/3/transcript?...             7   \n",
       "3  http://www.ted.com/talks/view/id/4/transcript?...             2   \n",
       "4  http://www.ted.com/talks/view/id/5/transcript?...             2   \n",
       "\n",
       "   year_filmed           event  duration date_published  \\\n",
       "0         2006         TED2006  00:16:17     2006-06-27   \n",
       "1         2006         TED2006  00:15:06     2006-08-15   \n",
       "2         2005  TEDGlobal 2005  00:18:45     2006-10-18   \n",
       "3         2006         TED2006  00:19:37     2006-10-25   \n",
       "4         2002         TED2002  00:20:04     2007-04-05   \n",
       "\n",
       "                                                tags  \n",
       "0  cars,alternative energy,culture,politics,scien...  \n",
       "1  MacArthur grant,simplicity,industrial design,a...  \n",
       "2  corruption,poverty,economics,investment,milita...  \n",
       "3  aircraft,flight,industrial design,NASA,rocket ...  \n",
       "4  cars,industrial design,transportation,inventio...  "
      ]
     },
     "execution_count": 4,
     "metadata": {},
     "output_type": "execute_result"
    }
   ],
   "source": [
    "tedtalks.head()"
   ]
  },
  {
   "cell_type": "code",
   "execution_count": 5,
   "metadata": {},
   "outputs": [
    {
     "data": {
      "text/plain": [
       "(2475, 12)"
      ]
     },
     "execution_count": 5,
     "metadata": {},
     "output_type": "execute_result"
    }
   ],
   "source": [
    "tedtalks.shape"
   ]
  },
  {
   "cell_type": "code",
   "execution_count": 6,
   "metadata": {},
   "outputs": [
    {
     "data": {
      "text/plain": [
       "id                 int64\n",
       "speaker           object\n",
       "headline          object\n",
       "url               object\n",
       "description       object\n",
       "transcript_url    object\n",
       "month_filmed       int64\n",
       "year_filmed        int64\n",
       "event             object\n",
       "duration          object\n",
       "date_published    object\n",
       "tags              object\n",
       "dtype: object"
      ]
     },
     "execution_count": 6,
     "metadata": {},
     "output_type": "execute_result"
    }
   ],
   "source": [
    "tedtalks.dtypes"
   ]
  },
  {
   "cell_type": "code",
   "execution_count": 7,
   "metadata": {},
   "outputs": [
    {
     "name": "stdout",
     "output_type": "stream",
     "text": [
      "id\n",
      "speaker\n",
      "headline\n",
      "url\n",
      "description\n",
      "transcript_url\n",
      "month_filmed\n",
      "year_filmed\n",
      "event\n",
      "duration\n",
      "date_published\n",
      "tags\n"
     ]
    }
   ],
   "source": [
    "for col_name in tedtalks.columns:\n",
    "    print(col_name)"
   ]
  },
  {
   "cell_type": "code",
   "execution_count": 8,
   "metadata": {},
   "outputs": [
    {
     "data": {
      "text/plain": [
       "0       cars,alternative energy,culture,politics,scien...\n",
       "1       MacArthur grant,simplicity,industrial design,a...\n",
       "2       corruption,poverty,economics,investment,milita...\n",
       "3       aircraft,flight,industrial design,NASA,rocket ...\n",
       "4       cars,industrial design,transportation,inventio...\n",
       "                              ...                        \n",
       "2470    autism spectrum disorder,TED en espanol,TEDx,a...\n",
       "2471    AI,algorithm,brain,cognitive science,machine l...\n",
       "2472    Christianity,God,aging,art,beauty,birds,books,...\n",
       "2473    choice,fear,goal-setting,humanity,life,persona...\n",
       "2474    adventure,collaboration,demo,design,engineerin...\n",
       "Name: tags, Length: 2475, dtype: object"
      ]
     },
     "execution_count": 8,
     "metadata": {},
     "output_type": "execute_result"
    }
   ],
   "source": [
    "tedtalks.tags"
   ]
  },
  {
   "cell_type": "code",
   "execution_count": 9,
   "metadata": {},
   "outputs": [
    {
     "data": {
      "text/plain": [
       "(2475, 123)"
      ]
     },
     "execution_count": 9,
     "metadata": {},
     "output_type": "execute_result"
    }
   ],
   "source": [
    "tedtalks_more.shape"
   ]
  },
  {
   "cell_type": "code",
   "execution_count": 10,
   "metadata": {},
   "outputs": [
    {
     "name": "stdout",
     "output_type": "stream",
     "text": [
      "id\n",
      "speaker\n",
      "headline\n",
      "url\n",
      "description\n",
      "transcript_url\n",
      "month_filmed\n",
      "year_filmed\n",
      "event\n",
      "duration\n",
      "date_published\n",
      "tags\n"
     ]
    }
   ],
   "source": [
    "for col_name in tedtalks.columns: \n",
    "    print(col_name)"
   ]
  },
  {
   "cell_type": "code",
   "execution_count": 11,
   "metadata": {},
   "outputs": [
    {
     "name": "stdout",
     "output_type": "stream",
     "text": [
      "id\n",
      "speaker\n",
      "headline\n",
      "URL\n",
      "description\n",
      "transcript_URL\n",
      "month_filmed\n",
      "year_filmed\n",
      "event\n",
      "duration\n",
      "date_published\n",
      "views_as_of_06162017\n",
      "tags\n",
      "transcript\n",
      "notes\n",
      "WC\n",
      "Analytic\n",
      "Clout\n",
      "Authentic\n",
      "Tone\n",
      "WPS\n",
      "Sixltr\n",
      "Dic\n",
      "function\n",
      "pronoun\n",
      "ppron\n",
      "i\n",
      "we\n",
      "you\n",
      "shehe\n",
      "they\n",
      "ipron\n",
      "article\n",
      "prep\n",
      "auxverb\n",
      "adverb\n",
      "conj\n",
      "negate\n",
      "verb\n",
      "adj\n",
      "compare\n",
      "interrog\n",
      "number\n",
      "quant\n",
      "affect\n",
      "posemo\n",
      "negemo\n",
      "anx\n",
      "anger\n",
      "sad\n",
      "social\n",
      "family\n",
      "friend\n",
      "female\n",
      "male\n",
      "cogproc\n",
      "insight\n",
      "cause\n",
      "discrep\n",
      "tentat\n",
      "certain\n",
      "differ\n",
      "percept\n",
      "see\n",
      "hear\n",
      "feel\n",
      "bio\n",
      "body\n",
      "health\n",
      "sexual\n",
      "ingest\n",
      "drives\n",
      "affiliation\n",
      "achieve\n",
      "power\n",
      "reward\n",
      "risk\n",
      "focuspast\n",
      "focuspresent\n",
      "focusfuture\n",
      "relativ\n",
      "motion\n",
      "space\n",
      "time\n",
      "work\n",
      "leisure\n",
      "home\n",
      "money\n",
      "relig\n",
      "death\n",
      "informal\n",
      "swear\n",
      "netspeak\n",
      "assent\n",
      "nonflu\n",
      "filler\n",
      "AllPunc\n",
      "Period\n",
      "Comma\n",
      "Colon\n",
      "SemiC\n",
      "QMark\n",
      "Exclam\n",
      "Dash\n",
      "Quote\n",
      "Apostro\n",
      "Parenth\n",
      "OtherP\n",
      "WC2\n",
      "WPS.1\n",
      "Sixltr.1\n",
      "Dic.1\n",
      "harm_virtue\n",
      "harm_vice\n",
      "fairness_virtue\n",
      "fairness_vice\n",
      "ingroup_virtue\n",
      "ingroup_vice\n",
      "authority_virtue\n",
      "authority_vice\n",
      "purity_virtue\n",
      "purity_vice\n",
      "morality_general\n"
     ]
    }
   ],
   "source": [
    "tedtalks.tags\n",
    "tedtalks_more.dtypes\n",
    "tedtalks_more.columns\n",
    "for col_name in tedtalks_more.columns: \n",
    "    print(col_name)"
   ]
  },
  {
   "cell_type": "code",
   "execution_count": 12,
   "metadata": {},
   "outputs": [
    {
     "data": {
      "text/plain": [
       "id                    int64\n",
       "speaker              object\n",
       "headline             object\n",
       "URL                  object\n",
       "description          object\n",
       "                     ...   \n",
       "authority_virtue    float64\n",
       "authority_vice      float64\n",
       "purity_virtue       float64\n",
       "purity_vice         float64\n",
       "morality_general    float64\n",
       "Length: 123, dtype: object"
      ]
     },
     "execution_count": 12,
     "metadata": {},
     "output_type": "execute_result"
    }
   ],
   "source": [
    "tedtalks_more.dtypes"
   ]
  },
  {
   "cell_type": "code",
   "execution_count": 13,
   "metadata": {},
   "outputs": [
    {
     "data": {
      "text/plain": [
       "Index(['id', 'speaker', 'headline', 'URL', 'description', 'transcript_URL',\n",
       "       'month_filmed', 'year_filmed', 'event', 'duration',\n",
       "       ...\n",
       "       'harm_vice', 'fairness_virtue', 'fairness_vice', 'ingroup_virtue',\n",
       "       'ingroup_vice', 'authority_virtue', 'authority_vice', 'purity_virtue',\n",
       "       'purity_vice', 'morality_general'],\n",
       "      dtype='object', length=123)"
      ]
     },
     "execution_count": 13,
     "metadata": {},
     "output_type": "execute_result"
    }
   ],
   "source": [
    "tedtalks_more.columns"
   ]
  },
  {
   "cell_type": "code",
   "execution_count": 14,
   "metadata": {},
   "outputs": [
    {
     "name": "stdout",
     "output_type": "stream",
     "text": [
      "id\n",
      "speaker\n",
      "headline\n",
      "URL\n",
      "description\n",
      "transcript_URL\n",
      "month_filmed\n",
      "year_filmed\n",
      "event\n",
      "duration\n",
      "date_published\n",
      "views_as_of_06162017\n",
      "tags\n",
      "transcript\n",
      "notes\n",
      "WC\n",
      "Analytic\n",
      "Clout\n",
      "Authentic\n",
      "Tone\n",
      "WPS\n",
      "Sixltr\n",
      "Dic\n",
      "function\n",
      "pronoun\n",
      "ppron\n",
      "i\n",
      "we\n",
      "you\n",
      "shehe\n",
      "they\n",
      "ipron\n",
      "article\n",
      "prep\n",
      "auxverb\n",
      "adverb\n",
      "conj\n",
      "negate\n",
      "verb\n",
      "adj\n",
      "compare\n",
      "interrog\n",
      "number\n",
      "quant\n",
      "affect\n",
      "posemo\n",
      "negemo\n",
      "anx\n",
      "anger\n",
      "sad\n",
      "social\n",
      "family\n",
      "friend\n",
      "female\n",
      "male\n",
      "cogproc\n",
      "insight\n",
      "cause\n",
      "discrep\n",
      "tentat\n",
      "certain\n",
      "differ\n",
      "percept\n",
      "see\n",
      "hear\n",
      "feel\n",
      "bio\n",
      "body\n",
      "health\n",
      "sexual\n",
      "ingest\n",
      "drives\n",
      "affiliation\n",
      "achieve\n",
      "power\n",
      "reward\n",
      "risk\n",
      "focuspast\n",
      "focuspresent\n",
      "focusfuture\n",
      "relativ\n",
      "motion\n",
      "space\n",
      "time\n",
      "work\n",
      "leisure\n",
      "home\n",
      "money\n",
      "relig\n",
      "death\n",
      "informal\n",
      "swear\n",
      "netspeak\n",
      "assent\n",
      "nonflu\n",
      "filler\n",
      "AllPunc\n",
      "Period\n",
      "Comma\n",
      "Colon\n",
      "SemiC\n",
      "QMark\n",
      "Exclam\n",
      "Dash\n",
      "Quote\n",
      "Apostro\n",
      "Parenth\n",
      "OtherP\n",
      "WC2\n",
      "WPS.1\n",
      "Sixltr.1\n",
      "Dic.1\n",
      "harm_virtue\n",
      "harm_vice\n",
      "fairness_virtue\n",
      "fairness_vice\n",
      "ingroup_virtue\n",
      "ingroup_vice\n",
      "authority_virtue\n",
      "authority_vice\n",
      "purity_virtue\n",
      "purity_vice\n",
      "morality_general\n"
     ]
    }
   ],
   "source": [
    "for col_name in tedtalks_more.columns: \n",
    "    print(col_name)"
   ]
  },
  {
   "cell_type": "markdown",
   "metadata": {},
   "source": [
    "### Selecting Columns from 123 columns"
   ]
  },
  {
   "cell_type": "code",
   "execution_count": 15,
   "metadata": {},
   "outputs": [],
   "source": [
    "select_columns = {\"headline\", \"number\", \"id\", \"speaker\", \"description\", \"views_as_of_06162017\", \"tags\", \"Clout\", \"date_published\", \"duration\"}"
   ]
  },
  {
   "cell_type": "code",
   "execution_count": 16,
   "metadata": {},
   "outputs": [
    {
     "data": {
      "text/html": [
       "<div>\n",
       "<style scoped>\n",
       "    .dataframe tbody tr th:only-of-type {\n",
       "        vertical-align: middle;\n",
       "    }\n",
       "\n",
       "    .dataframe tbody tr th {\n",
       "        vertical-align: top;\n",
       "    }\n",
       "\n",
       "    .dataframe thead th {\n",
       "        text-align: right;\n",
       "    }\n",
       "</style>\n",
       "<table border=\"1\" class=\"dataframe\">\n",
       "  <thead>\n",
       "    <tr style=\"text-align: right;\">\n",
       "      <th></th>\n",
       "      <th>views_as_of_06162017</th>\n",
       "      <th>tags</th>\n",
       "      <th>id</th>\n",
       "      <th>Clout</th>\n",
       "      <th>speaker</th>\n",
       "      <th>date_published</th>\n",
       "      <th>description</th>\n",
       "      <th>duration</th>\n",
       "      <th>headline</th>\n",
       "      <th>number</th>\n",
       "    </tr>\n",
       "  </thead>\n",
       "  <tbody>\n",
       "    <tr>\n",
       "      <th>0</th>\n",
       "      <td>3177001.0</td>\n",
       "      <td>cars,alternative energy,culture,politics,scien...</td>\n",
       "      <td>1</td>\n",
       "      <td>75.31</td>\n",
       "      <td>Al Gore</td>\n",
       "      <td>6/27/06</td>\n",
       "      <td>With the same humor and humanity he exuded in ...</td>\n",
       "      <td>0:16:17</td>\n",
       "      <td>Averting the climate crisis</td>\n",
       "      <td>6.97</td>\n",
       "    </tr>\n",
       "    <tr>\n",
       "      <th>1</th>\n",
       "      <td>1379328.0</td>\n",
       "      <td>MacArthur grant,simplicity,industrial design,a...</td>\n",
       "      <td>2</td>\n",
       "      <td>78.94</td>\n",
       "      <td>Amy Smith</td>\n",
       "      <td>8/15/06</td>\n",
       "      <td>Fumes from indoor cooking fires kill more than...</td>\n",
       "      <td>0:15:06</td>\n",
       "      <td>Simple designs to save a life</td>\n",
       "      <td>4.88</td>\n",
       "    </tr>\n",
       "    <tr>\n",
       "      <th>2</th>\n",
       "      <td>790536.0</td>\n",
       "      <td>corruption,poverty,economics,investment,milita...</td>\n",
       "      <td>3</td>\n",
       "      <td>65.67</td>\n",
       "      <td>Ashraf Ghani</td>\n",
       "      <td>10/18/06</td>\n",
       "      <td>Ashraf Ghani's passionate and powerful 10-minu...</td>\n",
       "      <td>0:18:45</td>\n",
       "      <td>How to rebuild a broken state</td>\n",
       "      <td>5.03</td>\n",
       "    </tr>\n",
       "    <tr>\n",
       "      <th>3</th>\n",
       "      <td>1985119.0</td>\n",
       "      <td>aircraft,flight,industrial design,NASA,rocket ...</td>\n",
       "      <td>4</td>\n",
       "      <td>71.00</td>\n",
       "      <td>Burt Rutan</td>\n",
       "      <td>10/25/06</td>\n",
       "      <td>In this passionate talk, legendary spacecraft ...</td>\n",
       "      <td>0:19:37</td>\n",
       "      <td>The real future of space exploration</td>\n",
       "      <td>5.37</td>\n",
       "    </tr>\n",
       "    <tr>\n",
       "      <th>4</th>\n",
       "      <td>859487.0</td>\n",
       "      <td>cars,industrial design,transportation,inventio...</td>\n",
       "      <td>5</td>\n",
       "      <td>81.00</td>\n",
       "      <td>Chris Bangle</td>\n",
       "      <td>4/5/07</td>\n",
       "      <td>American designer Chris Bangle explains his ph...</td>\n",
       "      <td>0:20:04</td>\n",
       "      <td>Great cars are great art</td>\n",
       "      <td>3.07</td>\n",
       "    </tr>\n",
       "    <tr>\n",
       "      <th>...</th>\n",
       "      <td>...</td>\n",
       "      <td>...</td>\n",
       "      <td>...</td>\n",
       "      <td>...</td>\n",
       "      <td>...</td>\n",
       "      <td>...</td>\n",
       "      <td>...</td>\n",
       "      <td>...</td>\n",
       "      <td>...</td>\n",
       "      <td>...</td>\n",
       "    </tr>\n",
       "    <tr>\n",
       "      <th>2470</th>\n",
       "      <td>519418.0</td>\n",
       "      <td>architecture,beauty,cities,community,journalis...</td>\n",
       "      <td>2797</td>\n",
       "      <td>63.18</td>\n",
       "      <td>Justin Davidson</td>\n",
       "      <td>6/6/17</td>\n",
       "      <td>There's a creepy transformation taking over ou...</td>\n",
       "      <td>0:12:39</td>\n",
       "      <td>Why glass towers are bad for city life -- and ...</td>\n",
       "      <td>3.07</td>\n",
       "    </tr>\n",
       "    <tr>\n",
       "      <th>2471</th>\n",
       "      <td>422132.0</td>\n",
       "      <td>AI,algorithm,brain,cognitive science,machine l...</td>\n",
       "      <td>2798</td>\n",
       "      <td>81.23</td>\n",
       "      <td>Mehdi Ordikhani-Seyedlar</td>\n",
       "      <td>6/8/17</td>\n",
       "      <td>Attention isn't just about what we focus on  i...</td>\n",
       "      <td>0:06:32</td>\n",
       "      <td>What happens in your brain when you pay attent...</td>\n",
       "      <td>3.78</td>\n",
       "    </tr>\n",
       "    <tr>\n",
       "      <th>2472</th>\n",
       "      <td>582001.0</td>\n",
       "      <td>choice,fear,goal-setting,humanity,life,persona...</td>\n",
       "      <td>2799</td>\n",
       "      <td>58.72</td>\n",
       "      <td>Tim Ferriss</td>\n",
       "      <td>6/12/17</td>\n",
       "      <td>The hard choices  what we most fear doing, ask...</td>\n",
       "      <td>0:13:21</td>\n",
       "      <td>Why you should define your fears instead of yo...</td>\n",
       "      <td>5.96</td>\n",
       "    </tr>\n",
       "    <tr>\n",
       "      <th>2473</th>\n",
       "      <td>651425.0</td>\n",
       "      <td>Christianity,God,aging,art,beauty,birds,books,...</td>\n",
       "      <td>2801</td>\n",
       "      <td>84.62</td>\n",
       "      <td>Anne Lamott</td>\n",
       "      <td>6/9/17</td>\n",
       "      <td>A few days before she turned 61, writer Anne L...</td>\n",
       "      <td>0:15:55</td>\n",
       "      <td>12 truths I learned from life and writing</td>\n",
       "      <td>6.92</td>\n",
       "    </tr>\n",
       "    <tr>\n",
       "      <th>2474</th>\n",
       "      <td>323733.0</td>\n",
       "      <td>adventure,collaboration,demo,design,engineerin...</td>\n",
       "      <td>2804</td>\n",
       "      <td>65.41</td>\n",
       "      <td>Richard Browning</td>\n",
       "      <td>6/13/17</td>\n",
       "      <td>We've all dreamed of flying  but for Richard B...</td>\n",
       "      <td>0:07:08</td>\n",
       "      <td>How I built a jet suit</td>\n",
       "      <td>7.76</td>\n",
       "    </tr>\n",
       "  </tbody>\n",
       "</table>\n",
       "<p>2475 rows × 10 columns</p>\n",
       "</div>"
      ],
      "text/plain": [
       "      views_as_of_06162017                                               tags  \\\n",
       "0                3177001.0  cars,alternative energy,culture,politics,scien...   \n",
       "1                1379328.0  MacArthur grant,simplicity,industrial design,a...   \n",
       "2                 790536.0  corruption,poverty,economics,investment,milita...   \n",
       "3                1985119.0  aircraft,flight,industrial design,NASA,rocket ...   \n",
       "4                 859487.0  cars,industrial design,transportation,inventio...   \n",
       "...                    ...                                                ...   \n",
       "2470              519418.0  architecture,beauty,cities,community,journalis...   \n",
       "2471              422132.0  AI,algorithm,brain,cognitive science,machine l...   \n",
       "2472              582001.0  choice,fear,goal-setting,humanity,life,persona...   \n",
       "2473              651425.0  Christianity,God,aging,art,beauty,birds,books,...   \n",
       "2474              323733.0  adventure,collaboration,demo,design,engineerin...   \n",
       "\n",
       "        id  Clout                   speaker date_published  \\\n",
       "0        1  75.31                   Al Gore        6/27/06   \n",
       "1        2  78.94                 Amy Smith        8/15/06   \n",
       "2        3  65.67              Ashraf Ghani       10/18/06   \n",
       "3        4  71.00                Burt Rutan       10/25/06   \n",
       "4        5  81.00              Chris Bangle         4/5/07   \n",
       "...    ...    ...                       ...            ...   \n",
       "2470  2797  63.18           Justin Davidson         6/6/17   \n",
       "2471  2798  81.23  Mehdi Ordikhani-Seyedlar         6/8/17   \n",
       "2472  2799  58.72               Tim Ferriss        6/12/17   \n",
       "2473  2801  84.62               Anne Lamott         6/9/17   \n",
       "2474  2804  65.41          Richard Browning        6/13/17   \n",
       "\n",
       "                                            description duration  \\\n",
       "0     With the same humor and humanity he exuded in ...  0:16:17   \n",
       "1     Fumes from indoor cooking fires kill more than...  0:15:06   \n",
       "2     Ashraf Ghani's passionate and powerful 10-minu...  0:18:45   \n",
       "3     In this passionate talk, legendary spacecraft ...  0:19:37   \n",
       "4     American designer Chris Bangle explains his ph...  0:20:04   \n",
       "...                                                 ...      ...   \n",
       "2470  There's a creepy transformation taking over ou...  0:12:39   \n",
       "2471  Attention isn't just about what we focus on  i...  0:06:32   \n",
       "2472  The hard choices  what we most fear doing, ask...  0:13:21   \n",
       "2473  A few days before she turned 61, writer Anne L...  0:15:55   \n",
       "2474  We've all dreamed of flying  but for Richard B...  0:07:08   \n",
       "\n",
       "                                               headline  number  \n",
       "0                           Averting the climate crisis    6.97  \n",
       "1                         Simple designs to save a life    4.88  \n",
       "2                         How to rebuild a broken state    5.03  \n",
       "3                  The real future of space exploration    5.37  \n",
       "4                              Great cars are great art    3.07  \n",
       "...                                                 ...     ...  \n",
       "2470  Why glass towers are bad for city life -- and ...    3.07  \n",
       "2471  What happens in your brain when you pay attent...    3.78  \n",
       "2472  Why you should define your fears instead of yo...    5.96  \n",
       "2473          12 truths I learned from life and writing    6.92  \n",
       "2474                             How I built a jet suit    7.76  \n",
       "\n",
       "[2475 rows x 10 columns]"
      ]
     },
     "execution_count": 16,
     "metadata": {},
     "output_type": "execute_result"
    }
   ],
   "source": [
    "tedtalks_more[select_columns]"
   ]
  },
  {
   "cell_type": "code",
   "execution_count": 17,
   "metadata": {},
   "outputs": [
    {
     "data": {
      "text/plain": [
       "0       3177001.0\n",
       "1       1379328.0\n",
       "2        790536.0\n",
       "3       1985119.0\n",
       "4        859487.0\n",
       "          ...    \n",
       "2470     519418.0\n",
       "2471     422132.0\n",
       "2472     582001.0\n",
       "2473     651425.0\n",
       "2474     323733.0\n",
       "Name: views_as_of_06162017, Length: 2475, dtype: float64"
      ]
     },
     "execution_count": 17,
     "metadata": {},
     "output_type": "execute_result"
    }
   ],
   "source": [
    "tedtalks_more.views_as_of_06162017"
   ]
  },
  {
   "cell_type": "markdown",
   "metadata": {},
   "source": [
    "### For every tag catch a list of Indices of TedTalks with tag in tags"
   ]
  },
  {
   "cell_type": "code",
   "execution_count": 35,
   "metadata": {},
   "outputs": [
    {
     "name": "stdout",
     "output_type": "stream",
     "text": [
      "For Search Tag  CaRs  the clean version is cars\n"
     ]
    }
   ],
   "source": [
    "search_tag = \" CaRs \"\n",
    "clean_tag = search_tag.lower()\n",
    "clean_tag = clean_tag.lstrip()\n",
    "clean_tag = clean_tag.rstrip()\n",
    "print(f\"For Search Tag {search_tag} the clean version is {clean_tag}\")"
   ]
  },
  {
   "cell_type": "code",
   "execution_count": 43,
   "metadata": {},
   "outputs": [],
   "source": [
    "TedTalks_set = set()\n",
    "TedTalks_match = []\n",
    "match_found = 0\n",
    "index=-1\n",
    "\n",
    "for tag in tedtalks.tags:\n",
    "    index+=1\n",
    "    tag_list = tag.split(\",\")\n",
    "    get_index = index\n",
    "    for tag in tag_list:\n",
    "        fix_tag = tag.lower()\n",
    "        fix_tag = fix_tag.lstrip()\n",
    "        fix_tag = fix_tag.rstrip()\n",
    "        if (clean_tag == fix_tag):\n",
    "            TedTalks_match.append(get_index)\n",
    "            match_found +=1\n",
    "    "
   ]
  },
  {
   "cell_type": "code",
   "execution_count": 44,
   "metadata": {},
   "outputs": [
    {
     "data": {
      "text/plain": [
       "20"
      ]
     },
     "execution_count": 44,
     "metadata": {},
     "output_type": "execute_result"
    }
   ],
   "source": [
    "match_found"
   ]
  },
  {
   "cell_type": "code",
   "execution_count": 45,
   "metadata": {},
   "outputs": [
    {
     "data": {
      "text/plain": [
       "[0,\n",
       " 4,\n",
       " 8,\n",
       " 27,\n",
       " 110,\n",
       " 189,\n",
       " 342,\n",
       " 419,\n",
       " 448,\n",
       " 966,\n",
       " 1052,\n",
       " 1286,\n",
       " 1390,\n",
       " 1489,\n",
       " 1530,\n",
       " 1564,\n",
       " 2011,\n",
       " 2154,\n",
       " 2314,\n",
       " 2383]"
      ]
     },
     "execution_count": 45,
     "metadata": {},
     "output_type": "execute_result"
    }
   ],
   "source": [
    "TedTalks_match"
   ]
  },
  {
   "cell_type": "code",
   "execution_count": 47,
   "metadata": {},
   "outputs": [
    {
     "data": {
      "text/html": [
       "<div>\n",
       "<style scoped>\n",
       "    .dataframe tbody tr th:only-of-type {\n",
       "        vertical-align: middle;\n",
       "    }\n",
       "\n",
       "    .dataframe tbody tr th {\n",
       "        vertical-align: top;\n",
       "    }\n",
       "\n",
       "    .dataframe thead th {\n",
       "        text-align: right;\n",
       "    }\n",
       "</style>\n",
       "<table border=\"1\" class=\"dataframe\">\n",
       "  <thead>\n",
       "    <tr style=\"text-align: right;\">\n",
       "      <th></th>\n",
       "      <th>id</th>\n",
       "      <th>speaker</th>\n",
       "      <th>headline</th>\n",
       "      <th>url</th>\n",
       "      <th>description</th>\n",
       "      <th>transcript_url</th>\n",
       "      <th>month_filmed</th>\n",
       "      <th>year_filmed</th>\n",
       "      <th>event</th>\n",
       "      <th>duration</th>\n",
       "      <th>date_published</th>\n",
       "      <th>tags</th>\n",
       "    </tr>\n",
       "  </thead>\n",
       "  <tbody>\n",
       "    <tr>\n",
       "      <th>0</th>\n",
       "      <td>1</td>\n",
       "      <td>Al Gore</td>\n",
       "      <td>Averting the climate crisis</td>\n",
       "      <td>http://www.ted.com/talks/view/id/1</td>\n",
       "      <td>With the same humor and humanity he exuded in ...</td>\n",
       "      <td>http://www.ted.com/talks/view/id/1/transcript?...</td>\n",
       "      <td>2</td>\n",
       "      <td>2006</td>\n",
       "      <td>TED2006</td>\n",
       "      <td>00:16:17</td>\n",
       "      <td>2006-06-27</td>\n",
       "      <td>cars,alternative energy,culture,politics,scien...</td>\n",
       "    </tr>\n",
       "    <tr>\n",
       "      <th>1</th>\n",
       "      <td>2</td>\n",
       "      <td>Amy Smith</td>\n",
       "      <td>Simple designs to save a life</td>\n",
       "      <td>http://www.ted.com/talks/view/id/2</td>\n",
       "      <td>Fumes from indoor cooking fires kill more than...</td>\n",
       "      <td>http://www.ted.com/talks/view/id/2/transcript?...</td>\n",
       "      <td>2</td>\n",
       "      <td>2006</td>\n",
       "      <td>TED2006</td>\n",
       "      <td>00:15:06</td>\n",
       "      <td>2006-08-15</td>\n",
       "      <td>MacArthur grant,simplicity,industrial design,a...</td>\n",
       "    </tr>\n",
       "    <tr>\n",
       "      <th>2</th>\n",
       "      <td>3</td>\n",
       "      <td>Ashraf Ghani</td>\n",
       "      <td>How to rebuild a broken state</td>\n",
       "      <td>http://www.ted.com/talks/view/id/3</td>\n",
       "      <td>Ashraf Ghani's passionate and powerful 10-minu...</td>\n",
       "      <td>http://www.ted.com/talks/view/id/3/transcript?...</td>\n",
       "      <td>7</td>\n",
       "      <td>2005</td>\n",
       "      <td>TEDGlobal 2005</td>\n",
       "      <td>00:18:45</td>\n",
       "      <td>2006-10-18</td>\n",
       "      <td>corruption,poverty,economics,investment,milita...</td>\n",
       "    </tr>\n",
       "    <tr>\n",
       "      <th>3</th>\n",
       "      <td>4</td>\n",
       "      <td>Burt Rutan</td>\n",
       "      <td>The real future of space exploration</td>\n",
       "      <td>http://www.ted.com/talks/view/id/4</td>\n",
       "      <td>In this passionate talk, legendary spacecraft ...</td>\n",
       "      <td>http://www.ted.com/talks/view/id/4/transcript?...</td>\n",
       "      <td>2</td>\n",
       "      <td>2006</td>\n",
       "      <td>TED2006</td>\n",
       "      <td>00:19:37</td>\n",
       "      <td>2006-10-25</td>\n",
       "      <td>aircraft,flight,industrial design,NASA,rocket ...</td>\n",
       "    </tr>\n",
       "    <tr>\n",
       "      <th>4</th>\n",
       "      <td>5</td>\n",
       "      <td>Chris Bangle</td>\n",
       "      <td>Great cars are great art</td>\n",
       "      <td>http://www.ted.com/talks/view/id/5</td>\n",
       "      <td>American designer Chris Bangle explains his ph...</td>\n",
       "      <td>http://www.ted.com/talks/view/id/5/transcript?...</td>\n",
       "      <td>2</td>\n",
       "      <td>2002</td>\n",
       "      <td>TED2002</td>\n",
       "      <td>00:20:04</td>\n",
       "      <td>2007-04-05</td>\n",
       "      <td>cars,industrial design,transportation,inventio...</td>\n",
       "    </tr>\n",
       "  </tbody>\n",
       "</table>\n",
       "</div>"
      ],
      "text/plain": [
       "   id       speaker                              headline  \\\n",
       "0   1       Al Gore           Averting the climate crisis   \n",
       "1   2     Amy Smith         Simple designs to save a life   \n",
       "2   3  Ashraf Ghani         How to rebuild a broken state   \n",
       "3   4    Burt Rutan  The real future of space exploration   \n",
       "4   5  Chris Bangle              Great cars are great art   \n",
       "\n",
       "                                  url  \\\n",
       "0  http://www.ted.com/talks/view/id/1   \n",
       "1  http://www.ted.com/talks/view/id/2   \n",
       "2  http://www.ted.com/talks/view/id/3   \n",
       "3  http://www.ted.com/talks/view/id/4   \n",
       "4  http://www.ted.com/talks/view/id/5   \n",
       "\n",
       "                                         description  \\\n",
       "0  With the same humor and humanity he exuded in ...   \n",
       "1  Fumes from indoor cooking fires kill more than...   \n",
       "2  Ashraf Ghani's passionate and powerful 10-minu...   \n",
       "3  In this passionate talk, legendary spacecraft ...   \n",
       "4  American designer Chris Bangle explains his ph...   \n",
       "\n",
       "                                      transcript_url  month_filmed  \\\n",
       "0  http://www.ted.com/talks/view/id/1/transcript?...             2   \n",
       "1  http://www.ted.com/talks/view/id/2/transcript?...             2   \n",
       "2  http://www.ted.com/talks/view/id/3/transcript?...             7   \n",
       "3  http://www.ted.com/talks/view/id/4/transcript?...             2   \n",
       "4  http://www.ted.com/talks/view/id/5/transcript?...             2   \n",
       "\n",
       "   year_filmed           event  duration date_published  \\\n",
       "0         2006         TED2006  00:16:17     2006-06-27   \n",
       "1         2006         TED2006  00:15:06     2006-08-15   \n",
       "2         2005  TEDGlobal 2005  00:18:45     2006-10-18   \n",
       "3         2006         TED2006  00:19:37     2006-10-25   \n",
       "4         2002         TED2002  00:20:04     2007-04-05   \n",
       "\n",
       "                                                tags  \n",
       "0  cars,alternative energy,culture,politics,scien...  \n",
       "1  MacArthur grant,simplicity,industrial design,a...  \n",
       "2  corruption,poverty,economics,investment,milita...  \n",
       "3  aircraft,flight,industrial design,NASA,rocket ...  \n",
       "4  cars,industrial design,transportation,inventio...  "
      ]
     },
     "execution_count": 47,
     "metadata": {},
     "output_type": "execute_result"
    }
   ],
   "source": [
    "tedtalks.head()"
   ]
  },
  {
   "cell_type": "code",
   "execution_count": null,
   "metadata": {},
   "outputs": [],
   "source": [
    "all_tedtalks_tags = tedtalks_more.tags\n",
    "for tag in all_tedtalks_tags:\n",
    "    print(tag)\n"
   ]
  },
  {
   "cell_type": "code",
   "execution_count": null,
   "metadata": {},
   "outputs": [],
   "source": [
    "keyword_list = tag.split(\",\")"
   ]
  },
  {
   "cell_type": "code",
   "execution_count": null,
   "metadata": {},
   "outputs": [],
   "source": [
    "keyword_list "
   ]
  },
  {
   "cell_type": "code",
   "execution_count": null,
   "metadata": {},
   "outputs": [],
   "source": [
    "keyword_list[-1]"
   ]
  },
  {
   "cell_type": "markdown",
   "metadata": {},
   "source": [
    "### TedTalks_keyword_set"
   ]
  },
  {
   "cell_type": "code",
   "execution_count": null,
   "metadata": {},
   "outputs": [],
   "source": [
    "TedTalks_keyword_set = set()\n",
    "for tag in all_tedtalks_tags:\n",
    "    keyword_list = tag.split(\",\")\n",
    "    for keyword in keyword_list:\n",
    "        if (keyword):\n",
    "            TedTalks_keyword_set.add(keyword)\n",
    "    \n",
    "print(TedTalks_keyword_set)"
   ]
  },
  {
   "cell_type": "code",
   "execution_count": null,
   "metadata": {},
   "outputs": [],
   "source": [
    "search_terms = []\n",
    "for word in TedTalks_keyword_set:\n",
    "    lower_case = word.lower()\n",
    "    no_spaces_left = lower_case.lstrip()\n",
    "    no_spaces = no_spaces_left.rstrip()\n",
    "    search_terms.append(no_spaces)\n",
    "    \n",
    "search_terms.sort()\n",
    "search_terms_set = set()\n",
    "for word in search_terms:\n",
    "    search_terms_set.add(word)\n",
    "    \n",
    "sorted_terms = []\n",
    "for word in search_terms_set:\n",
    "    sorted_terms.append(word)\n",
    "    \n",
    "sorted_terms.sort()\n",
    "sorted_terms"
   ]
  },
  {
   "cell_type": "code",
   "execution_count": null,
   "metadata": {},
   "outputs": [],
   "source": [
    "search_terms.sort()\n",
    "search_terms_set = set()\n",
    "for word in search_terms:\n",
    "    search_terms_set.add(word)\n",
    "    \n",
    "sorted_terms = []\n",
    "for word in search_terms_set:\n",
    "    sorted_terms.append(word)"
   ]
  },
  {
   "cell_type": "code",
   "execution_count": null,
   "metadata": {
    "scrolled": false
   },
   "outputs": [],
   "source": [
    "sorted_terms.sort()"
   ]
  },
  {
   "cell_type": "code",
   "execution_count": null,
   "metadata": {},
   "outputs": [],
   "source": [
    "len(sorted_terms)"
   ]
  },
  {
   "cell_type": "code",
   "execution_count": null,
   "metadata": {},
   "outputs": [],
   "source": [
    "len(TedTalks_keyword_set)"
   ]
  },
  {
   "cell_type": "code",
   "execution_count": null,
   "metadata": {},
   "outputs": [],
   "source": [
    "def find_tedtalks_keyword_list(s):\n",
    "    keyword_list = s.split(\",\")\n",
    "    return keyword_list"
   ]
  },
  {
   "cell_type": "code",
   "execution_count": null,
   "metadata": {},
   "outputs": [],
   "source": [
    "one = \"'\"\n",
    "two = one + one\n",
    "count_quote = one\n",
    "print(two)\n",
    "print(count_quote)\n",
    "print(one)"
   ]
  },
  {
   "cell_type": "code",
   "execution_count": null,
   "metadata": {},
   "outputs": [],
   "source": [
    "tedtalks_more.head()"
   ]
  },
  {
   "cell_type": "markdown",
   "metadata": {},
   "source": [
    "coursera_detail"
   ]
  },
  {
   "cell_type": "code",
   "execution_count": null,
   "metadata": {},
   "outputs": [],
   "source": [
    "coursera_detail.Rating.unique()"
   ]
  },
  {
   "cell_type": "code",
   "execution_count": null,
   "metadata": {},
   "outputs": [],
   "source": [
    "kind_of_rating = len(coursera_detail.Rating.unique())\n",
    "print(f\"How many different Kinds of Rating {kind_of_rating}\")"
   ]
  },
  {
   "cell_type": "code",
   "execution_count": null,
   "metadata": {},
   "outputs": [],
   "source": [
    "coursera_detail.Difficulty.unique()"
   ]
  },
  {
   "cell_type": "code",
   "execution_count": null,
   "metadata": {},
   "outputs": [],
   "source": [
    "levels_of_Difficulty = len(coursera_detail.Difficulty.unique())\n",
    "print(f\"How many different Levels of Difficulty {levels_of_Difficulty}\")"
   ]
  },
  {
   "cell_type": "code",
   "execution_count": null,
   "metadata": {},
   "outputs": [],
   "source": [
    "coursera_detail.Tags"
   ]
  },
  {
   "cell_type": "code",
   "execution_count": null,
   "metadata": {},
   "outputs": [],
   "source": [
    "coursera_detail.Tags.unique()"
   ]
  },
  {
   "cell_type": "code",
   "execution_count": null,
   "metadata": {},
   "outputs": [],
   "source": [
    "len(coursera_detail.Tags.unique())"
   ]
  },
  {
   "cell_type": "code",
   "execution_count": null,
   "metadata": {},
   "outputs": [],
   "source": [
    "coursera_tags =coursera_detail.Tags"
   ]
  },
  {
   "cell_type": "code",
   "execution_count": null,
   "metadata": {},
   "outputs": [],
   "source": [
    "coursera_tags"
   ]
  },
  {
   "cell_type": "code",
   "execution_count": null,
   "metadata": {},
   "outputs": [],
   "source": [
    "coursera_tags[0]"
   ]
  },
  {
   "cell_type": "code",
   "execution_count": null,
   "metadata": {},
   "outputs": [],
   "source": [
    "tags_set = set()"
   ]
  },
  {
   "cell_type": "code",
   "execution_count": null,
   "metadata": {},
   "outputs": [],
   "source": [
    "tags_set = set()\n",
    "count_tags = 0\n",
    "\n",
    "for tag_list in coursera_tags:\n",
    "    if (tag_list):\n",
    "        tags_set.add(tag_list)\n",
    "        count_tags +=1"
   ]
  },
  {
   "cell_type": "code",
   "execution_count": null,
   "metadata": {},
   "outputs": [],
   "source": [
    "tags_set"
   ]
  },
  {
   "cell_type": "code",
   "execution_count": null,
   "metadata": {},
   "outputs": [],
   "source": [
    "count_tags"
   ]
  },
  {
   "cell_type": "code",
   "execution_count": null,
   "metadata": {},
   "outputs": [],
   "source": [
    "print(f\"How many different Tags {count_tags}\")"
   ]
  },
  {
   "cell_type": "code",
   "execution_count": null,
   "metadata": {},
   "outputs": [],
   "source": [
    "for s in tags_set:\n",
    "    print(s)"
   ]
  },
  {
   "cell_type": "code",
   "execution_count": null,
   "metadata": {},
   "outputs": [],
   "source": [
    "print(s)"
   ]
  },
  {
   "cell_type": "markdown",
   "metadata": {},
   "source": [
    "### Grab the Search Phrase between single quotes"
   ]
  },
  {
   "cell_type": "code",
   "execution_count": null,
   "metadata": {},
   "outputs": [],
   "source": [
    "print(s)\n",
    "new_phrase = \"\"\n",
    "new_keyword = \"\"\n",
    "keyword_list = []\n",
    "phrase_list = []\n",
    "keyword = new_keyword\n",
    "phrase = new_phrase\n",
    "blankspace = \" \"\n",
    "\n",
    "for letter in s:\n",
    "    open_braces = (letter == \"[\")\n",
    "    closed_braces = (letter == \"]\")\n",
    "    single_quote = (letter == \"'\")\n",
    "    space = (letter==\" \")\n",
    "    comma = (letter == \",\")\n",
    "\n",
    "    \n",
    "    alphabet = (not open_braces) and (not closed_braces) and (not single_quote) and (not comma) and (not space)\n",
    "    if (open_braces):\n",
    "            keyword_list = []\n",
    "            phrase_list = []\n",
    "            keyword = new_keyword\n",
    "            phrase = new_phrase\n",
    "\n",
    "            \n",
    " \n",
    "    if (single_quote):\n",
    "            if (keyword != new_keyword):\n",
    "                keyword_list.append(keyword)\n",
    "                phrase_list.append(phrase)\n",
    "                keyword = new_keyword\n",
    "                phrase = new_phrase\n",
    "                \n",
    "\n",
    "                \n",
    "\n",
    "    if (space):\n",
    "                if (keyword != new_keyword):\n",
    "                    keyword_list.append(keyword)\n",
    "                    keyword=new_keyword\n",
    "                    phrase = phrase + blankspace\n",
    "\n",
    "\n",
    "                \n",
    "    if (closed_braces):\n",
    "                #keyword_list.append(keyword)\n",
    "                #phrase_list.append(phrase)\n",
    "                keyword = new_keyword\n",
    "                phrase = new_phrase\n",
    "                open_quote = False\n",
    "                closed_quote = True\n",
    "    if (comma):\n",
    "                #keyword_list.append(keyword)\n",
    "                #phrase_list.append(phrase)       \n",
    "                keyword = new_keyword\n",
    "                phrase = new_phrase\n",
    "                space_after_comma = True\n",
    "            \n",
    "            \n",
    "    if (alphabet):\n",
    "                keyword= keyword + letter\n",
    "                phrase = phrase + letter\n",
    "                space_after_comma = False\n",
    "    \n",
    "        \n",
    "    "
   ]
  },
  {
   "cell_type": "code",
   "execution_count": null,
   "metadata": {},
   "outputs": [],
   "source": [
    "phrase_list"
   ]
  },
  {
   "cell_type": "code",
   "execution_count": null,
   "metadata": {},
   "outputs": [],
   "source": [
    "for phrase in phrase_list:\n",
    "    print(phrase)"
   ]
  },
  {
   "cell_type": "code",
   "execution_count": null,
   "metadata": {},
   "outputs": [],
   "source": [
    "keyword_list"
   ]
  },
  {
   "cell_type": "code",
   "execution_count": null,
   "metadata": {},
   "outputs": [],
   "source": [
    "for key in keyword_list:\n",
    "    print(key)"
   ]
  },
  {
   "cell_type": "code",
   "execution_count": null,
   "metadata": {},
   "outputs": [],
   "source": [
    "def find_phrase_list(s):\n",
    "    \n",
    "    \n",
    "    new_phrase = \"\"\n",
    "    new_keyword = \"\"\n",
    "    keyword_list = []\n",
    "    phrase_list = []\n",
    "    keyword = new_keyword\n",
    "    phrase = new_phrase\n",
    "\n",
    "\n",
    "    for letter in s:\n",
    "        open_braces = (letter == \"[\")\n",
    "        closed_braces = (letter == \"]\")\n",
    "        single_quote = (letter == \"'\")\n",
    "        space = (letter==\" \")\n",
    "        comma = (letter == \",\")\n",
    "\n",
    "    \n",
    "        alphabet = (not open_braces) and (not closed_braces) and (not single_quote) and (not comma) and (not space)\n",
    "        if (open_braces):\n",
    "            keyword_list = []\n",
    "            phrase_list = []\n",
    "            keyword = new_keyword\n",
    "            phrase = new_phrase\n",
    "\n",
    "            \n",
    " \n",
    "        if (single_quote):\n",
    "            if (keyword != new_keyword):\n",
    "                keyword_list.append(keyword)\n",
    "                phrase_list.append(phrase)\n",
    "                keyword = new_keyword\n",
    "                phrase = new_phrase\n",
    "                \n",
    "\n",
    "                \n",
    "\n",
    "        if (space):\n",
    "                if (keyword != new_keyword):\n",
    "                    keyword_list.append(keyword)\n",
    "                    keyword=new_keyword\n",
    "                    phrase = phrase + blankspace\n",
    "\n",
    "\n",
    "                \n",
    "        if (closed_braces):\n",
    "                #keyword_list.append(keyword)\n",
    "                #phrase_list.append(phrase)\n",
    "                keyword = new_keyword\n",
    "                phrase = new_phrase\n",
    "                open_quote = False\n",
    "                closed_quote = True\n",
    "        if (comma):\n",
    "                #keyword_list.append(keyword)\n",
    "                #phrase_list.append(phrase)       \n",
    "                keyword = new_keyword\n",
    "                phrase = new_phrase\n",
    "                space_after_comma = True\n",
    "            \n",
    "            \n",
    "        if (alphabet):\n",
    "                keyword= keyword + letter\n",
    "                phrase = phrase + letter\n",
    "                space_after_comma = False\n",
    "    \n",
    "        \n",
    "    \n",
    "    \n",
    "    \n",
    "    return phrase_list"
   ]
  },
  {
   "cell_type": "code",
   "execution_count": null,
   "metadata": {},
   "outputs": [],
   "source": [
    "def find_keyword_list(s):\n",
    "    \n",
    "    \n",
    "    new_phrase = \"\"\n",
    "    new_keyword = \"\"\n",
    "    keyword_list = []\n",
    "    phrase_list = []\n",
    "    keyword = new_keyword\n",
    "    phrase = new_phrase\n",
    "\n",
    "\n",
    "    for letter in s:\n",
    "        open_braces = (letter == \"[\")\n",
    "        closed_braces = (letter == \"]\")\n",
    "        single_quote = (letter == \"'\")\n",
    "        space = (letter==\" \")\n",
    "        comma = (letter == \",\")\n",
    "\n",
    "    \n",
    "        alphabet = (not open_braces) and (not closed_braces) and (not single_quote) and (not comma) and (not space)\n",
    "        if (open_braces):\n",
    "            keyword_list = []\n",
    "            phrase_list = []\n",
    "            keyword = new_keyword\n",
    "            phrase = new_phrase\n",
    "\n",
    "            \n",
    " \n",
    "        if (single_quote):\n",
    "            if (keyword != new_keyword):\n",
    "                keyword_list.append(keyword)\n",
    "                phrase_list.append(phrase)\n",
    "                keyword = new_keyword\n",
    "                phrase = new_phrase\n",
    "                \n",
    "\n",
    "                \n",
    "\n",
    "        if (space):\n",
    "                if (keyword != new_keyword):\n",
    "                    keyword_list.append(keyword)\n",
    "                    keyword=new_keyword\n",
    "                    phrase = phrase + blankspace\n",
    "\n",
    "\n",
    "                \n",
    "        if (closed_braces):\n",
    "                #keyword_list.append(keyword)\n",
    "                #phrase_list.append(phrase)\n",
    "                keyword = new_keyword\n",
    "                phrase = new_phrase\n",
    "                open_quote = False\n",
    "                closed_quote = True\n",
    "        if (comma):\n",
    "                #keyword_list.append(keyword)\n",
    "                #phrase_list.append(phrase)       \n",
    "                keyword = new_keyword\n",
    "                phrase = new_phrase\n",
    "                space_after_comma = True\n",
    "            \n",
    "            \n",
    "        if (alphabet):\n",
    "                keyword= keyword + letter\n",
    "                phrase = phrase + letter\n",
    "                space_after_comma = False\n",
    "    \n",
    "        \n",
    "    \n",
    "    \n",
    "        \n",
    "    return keyword_list"
   ]
  },
  {
   "cell_type": "code",
   "execution_count": null,
   "metadata": {},
   "outputs": [],
   "source": [
    "set_of_phrases = set()\n",
    "for s in tags_set:\n",
    "    phrase_list = find_phrase_list(s)\n",
    "    for phrase in phrase_list:\n",
    "        set_of_phrases.add(phrase)"
   ]
  },
  {
   "cell_type": "code",
   "execution_count": null,
   "metadata": {},
   "outputs": [],
   "source": [
    "set_of_phrases"
   ]
  },
  {
   "cell_type": "code",
   "execution_count": null,
   "metadata": {},
   "outputs": [],
   "source": [
    "set_of_keys = set()\n",
    "for s in tags_set:\n",
    "    keyword_list = find_keyword_list(s)\n",
    "    for key in keyword_list:\n",
    "        set_of_keys.add(key)"
   ]
  },
  {
   "cell_type": "code",
   "execution_count": null,
   "metadata": {},
   "outputs": [],
   "source": [
    "set_of_keys"
   ]
  },
  {
   "cell_type": "code",
   "execution_count": null,
   "metadata": {},
   "outputs": [],
   "source": [
    "len(set_of_keys)"
   ]
  },
  {
   "cell_type": "markdown",
   "metadata": {},
   "source": [
    "### Category"
   ]
  },
  {
   "cell_type": "code",
   "execution_count": null,
   "metadata": {},
   "outputs": [],
   "source": [
    "search_for = \"Technology\""
   ]
  },
  {
   "cell_type": "code",
   "execution_count": null,
   "metadata": {},
   "outputs": [],
   "source": [
    "search_for = \"cars\""
   ]
  },
  {
   "cell_type": "code",
   "execution_count": null,
   "metadata": {},
   "outputs": [],
   "source": [
    "print(f\"Search for {search_for} in TedTalks\")\n",
    "found_match = False\n",
    "search_match = True\n",
    "for tag in tedtalks.tags:\n",
    "    if (search_match):\n",
    "        search_list = tag.split(\",\")\n",
    "        if (search_for in search_list):\n",
    "            search_match = found_match\n",
    "            print(f\"Ted Talks Match Found {tedtalks.speaker}\")"
   ]
  },
  {
   "cell_type": "code",
   "execution_count": null,
   "metadata": {},
   "outputs": [],
   "source": []
  },
  {
   "cell_type": "code",
   "execution_count": null,
   "metadata": {},
   "outputs": [],
   "source": []
  },
  {
   "cell_type": "code",
   "execution_count": null,
   "metadata": {},
   "outputs": [],
   "source": []
  },
  {
   "cell_type": "code",
   "execution_count": null,
   "metadata": {},
   "outputs": [],
   "source": []
  },
  {
   "cell_type": "code",
   "execution_count": null,
   "metadata": {},
   "outputs": [],
   "source": []
  },
  {
   "cell_type": "code",
   "execution_count": null,
   "metadata": {},
   "outputs": [],
   "source": []
  }
 ],
 "metadata": {
  "kernelspec": {
   "display_name": "Python 3",
   "language": "python",
   "name": "python3"
  },
  "language_info": {
   "codemirror_mode": {
    "name": "ipython",
    "version": 3
   },
   "file_extension": ".py",
   "mimetype": "text/x-python",
   "name": "python",
   "nbconvert_exporter": "python",
   "pygments_lexer": "ipython3",
   "version": "3.7.4"
  }
 },
 "nbformat": 4,
 "nbformat_minor": 4
}
